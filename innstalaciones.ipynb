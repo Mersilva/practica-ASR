{
 "cells": [
  {
   "cell_type": "code",
   "execution_count": 2,
   "id": "984a95ae",
   "metadata": {},
   "outputs": [
    {
     "name": "stdout",
     "output_type": "stream",
     "text": [
      "Looking in links: https://download.pytorch.org/whl/torch_stable.html\n",
      "Collecting torch==2.0.1+cpu\n",
      "  Downloading https://download.pytorch.org/whl/cpu/torch-2.0.1%2Bcpu-cp310-cp310-win_amd64.whl (174.0 MB)\n",
      "     -------------------------------------- 174.0/174.0 MB 8.6 MB/s eta 0:00:00\n",
      "Requirement already satisfied: networkx in c:\\users\\mersi\\anaconda3\\lib\\site-packages (from torch==2.0.1+cpu) (2.8.4)\n",
      "Requirement already satisfied: filelock in c:\\users\\mersi\\anaconda3\\lib\\site-packages (from torch==2.0.1+cpu) (3.9.0)\n",
      "Requirement already satisfied: typing-extensions in c:\\users\\mersi\\anaconda3\\lib\\site-packages (from torch==2.0.1+cpu) (4.8.0)\n",
      "Requirement already satisfied: jinja2 in c:\\users\\mersi\\anaconda3\\lib\\site-packages (from torch==2.0.1+cpu) (3.1.2)\n",
      "Requirement already satisfied: sympy in c:\\users\\mersi\\anaconda3\\lib\\site-packages (from torch==2.0.1+cpu) (1.11.1)\n",
      "Requirement already satisfied: MarkupSafe>=2.0 in c:\\users\\mersi\\anaconda3\\lib\\site-packages (from jinja2->torch==2.0.1+cpu) (2.1.1)\n",
      "Requirement already satisfied: mpmath>=0.19 in c:\\users\\mersi\\anaconda3\\lib\\site-packages (from sympy->torch==2.0.1+cpu) (1.2.1)\n",
      "Installing collected packages: torch\n",
      "  Attempting uninstall: torch\n",
      "    Found existing installation: torch 1.12.1\n",
      "    Uninstalling torch-1.12.1:\n",
      "      Successfully uninstalled torch-1.12.1\n",
      "Successfully installed torch-2.0.1+cpu\n",
      "Looking in links: https://k2-fsa.github.io/k2/cpu.html\n",
      "Collecting k2==1.24.3.dev20230726+cpu.torch2.0.1\n",
      "  Downloading https://huggingface.co/csukuangfj/k2/resolve/main/windows-cpu/k2-1.24.3.dev20230726%2Bcpu.torch2.0.1-cp310-cp310-win_amd64.whl (5.4 MB)\n",
      "     ---------------------------------------- 5.4/5.4 MB 6.7 MB/s eta 0:00:00\n",
      "Requirement already satisfied: torch==2.0.1 in c:\\users\\mersi\\anaconda3\\lib\\site-packages (from k2==1.24.3.dev20230726+cpu.torch2.0.1) (2.0.1+cpu)\n",
      "Collecting graphviz\n",
      "  Using cached graphviz-0.20.1-py3-none-any.whl (47 kB)\n",
      "Requirement already satisfied: networkx in c:\\users\\mersi\\anaconda3\\lib\\site-packages (from torch==2.0.1->k2==1.24.3.dev20230726+cpu.torch2.0.1) (2.8.4)\n",
      "Requirement already satisfied: jinja2 in c:\\users\\mersi\\anaconda3\\lib\\site-packages (from torch==2.0.1->k2==1.24.3.dev20230726+cpu.torch2.0.1) (3.1.2)\n",
      "Requirement already satisfied: sympy in c:\\users\\mersi\\anaconda3\\lib\\site-packages (from torch==2.0.1->k2==1.24.3.dev20230726+cpu.torch2.0.1) (1.11.1)\n",
      "Requirement already satisfied: filelock in c:\\users\\mersi\\anaconda3\\lib\\site-packages (from torch==2.0.1->k2==1.24.3.dev20230726+cpu.torch2.0.1) (3.9.0)\n",
      "Requirement already satisfied: typing-extensions in c:\\users\\mersi\\anaconda3\\lib\\site-packages (from torch==2.0.1->k2==1.24.3.dev20230726+cpu.torch2.0.1) (4.8.0)\n",
      "Requirement already satisfied: MarkupSafe>=2.0 in c:\\users\\mersi\\anaconda3\\lib\\site-packages (from jinja2->torch==2.0.1->k2==1.24.3.dev20230726+cpu.torch2.0.1) (2.1.1)\n",
      "Requirement already satisfied: mpmath>=0.19 in c:\\users\\mersi\\anaconda3\\lib\\site-packages (from sympy->torch==2.0.1->k2==1.24.3.dev20230726+cpu.torch2.0.1) (1.2.1)\n",
      "Installing collected packages: graphviz, k2\n",
      "Successfully installed graphviz-0.20.1 k2-1.24.3.dev20230726+cpu.torch2.0.1\n"
     ]
    }
   ],
   "source": [
    "!pip install torch==2.0.1+cpu -f https://download.pytorch.org/whl/torch_stable.html\n",
    "!pip install k2==1.24.3.dev20230726+cpu.torch2.0.1 -f https://k2-fsa.github.io/k2/cpu.html\n"
   ]
  },
  {
   "cell_type": "code",
   "execution_count": 3,
   "id": "33aa3999",
   "metadata": {},
   "outputs": [
    {
     "name": "stderr",
     "output_type": "stream",
     "text": [
      "Python was not found; run without arguments to install from the Microsoft Store, or disable this shortcut from Settings > Manage App Execution Aliases.\n"
     ]
    }
   ],
   "source": [
    "! python3 -m k2.version"
   ]
  },
  {
   "cell_type": "code",
   "execution_count": null,
   "id": "485c07d6",
   "metadata": {},
   "outputs": [],
   "source": []
  }
 ],
 "metadata": {
  "kernelspec": {
   "display_name": "Python 3 (ipykernel)",
   "language": "python",
   "name": "python3"
  },
  "language_info": {
   "codemirror_mode": {
    "name": "ipython",
    "version": 3
   },
   "file_extension": ".py",
   "mimetype": "text/x-python",
   "name": "python",
   "nbconvert_exporter": "python",
   "pygments_lexer": "ipython3",
   "version": "3.10.9"
  }
 },
 "nbformat": 4,
 "nbformat_minor": 5
}
